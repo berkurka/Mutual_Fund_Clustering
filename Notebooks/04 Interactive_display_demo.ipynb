{
 "cells": [
  {
   "cell_type": "code",
   "execution_count": 1,
   "metadata": {},
   "outputs": [],
   "source": [
    "from __future__ import print_function\n",
    "from ipywidgets import interact, interactive, fixed, interact_manual\n",
    "import ipywidgets as widgets\n",
    "\n",
    "from sklearn.neighbors import NearestNeighbors\n",
    "from sklearn.model_selection import cross_val_score\n",
    "from sklearn.metrics import accuracy_score\n",
    "import pandas as pd\n",
    "import numpy as np"
   ]
  },
  {
   "cell_type": "code",
   "execution_count": 3,
   "metadata": {},
   "outputs": [],
   "source": [
    "df_w_cluster = pd.read_csv('../Data/raw_df_with_cluster.csv')\n",
    "features = ['Volatility_6m','CVM Category_Fixed Income'\n",
    "            ,'CVM Category_Multimarket','Leveraged Anbima_Yes'\n",
    "interest_cols = ['CVM Category_Fixed Income','CVM Category_Multimarket',\n",
    "                 'CVM Category_Equities','Liquidity Ratios','age_months'\n",
    "                 ,'Assets_Flow_6m','Assets_Flow_12m','Assets_Flow_24m'\n",
    "                 ,'#_Funds_managed', 'Manager_avg_Assets'\n",
    "                 ,'Management Fee','Return_6m','Return_12m'\n",
    "                 ,'Return_24m','Volatility_6m','Volatility_12m'\n",
    "                 ,'Volatility_24m']"
   ]
  },
  {
   "cell_type": "markdown",
   "metadata": {},
   "source": [
    "# Interactive 4 Plot"
   ]
  },
  {
   "cell_type": "code",
   "execution_count": 13,
   "metadata": {},
   "outputs": [
    {
     "data": {
      "application/vnd.jupyter.widget-view+json": {
       "model_id": "3c5d2e51d07f4105a2c0489f45d5d074",
       "version_major": 2,
       "version_minor": 0
      },
      "text/plain": [
       "interactive(children=(Dropdown(description='Col1', options=('CVM Category_Fixed Income', 'CVM Category_Multima…"
      ]
     },
     "metadata": {},
     "output_type": "display_data"
    },
    {
     "data": {
      "text/plain": [
       "<function __main__.scatter_plot(Col1, Col2, Col3)>"
      ]
     },
     "execution_count": 13,
     "metadata": {},
     "output_type": "execute_result"
    }
   ],
   "source": [
    "# This import registers the 3D projection, but is otherwise unused.\n",
    "from mpl_toolkits.mplot3d import Axes3D  # noqa: F401 unused import\n",
    "\n",
    "import matplotlib.pyplot as plt\n",
    "\n",
    "def scatter_plot(Col1,Col2,Col3):\n",
    "    fig = plt.figure(figsize=(8,6))\n",
    "    ax = Axes3D(fig)\n",
    "    x= Col1\n",
    "    y= Col2\n",
    "    z= Col3\n",
    "    for i in df_w_cluster['kmeans_1'].unique():\n",
    "        xs = df_w_cluster[df_w_cluster['kmeans_1']==i][x].mean()\n",
    "        ys = df_w_cluster[df_w_cluster['kmeans_1']==i][y].mean()\n",
    "        zs = df_w_cluster[df_w_cluster['kmeans_1']==i][z].mean()\n",
    "        size = max(25,min(500,np.mean(df_w_cluster[df_w_cluster['kmeans_1']==i]['Last_Assets'])/3000000))\n",
    "        ax.scatter(xs, ys, zs, label=str(i),s=size)\n",
    "\n",
    "\n",
    "    ax.set_title('Type of Mutual Fund in each cluster  ',loc='center', fontsize=22)\n",
    "    ax.set_xlabel(x, fontsize=13)\n",
    "    ax.set_ylabel(y, fontsize=13)\n",
    "    ax.set_zlabel(z, fontsize=13)\n",
    "    ax.legend(loc = 2)\n",
    "    plt.show()\n",
    "    \n",
    "# Create interactive \n",
    "interact(scatter_plot,Col1 =interest_cols,\n",
    "         Col2 = interest_cols[1:],\n",
    "         Col3 = interest_cols[2:])"
   ]
  },
  {
   "cell_type": "markdown",
   "metadata": {},
   "source": [
    "# Interactive Fund Search"
   ]
  },
  {
   "cell_type": "code",
   "execution_count": 10,
   "metadata": {},
   "outputs": [],
   "source": [
    "risk_dic = {\"Conservative\":1,\"Moderately Conservative\":2,\"Moderately Agressive\":3,\n",
    "            \"Agressive\":4,\"Very Agressive\":5}\n",
    "fund_type_dic = {'Fixed Income':'CVM Category_Fixed Income',\n",
    "                 'Balanced':'CVM Category_Multimarket',\n",
    "                 'Equity':'CVM Category_Equities',\n",
    "                 \"Currency\":'CVM Category_FX'}\n",
    "comp_size_dic = {\"Large company\":(2/3,1) ,\"Medium company\":(1/3,2/3),\"Small company\":(0,1/3),\n",
    "                 \"Any size\":(0,1)}"
   ]
  },
  {
   "cell_type": "code",
   "execution_count": 20,
   "metadata": {},
   "outputs": [],
   "source": [
    "def recommended_funds(Fund_type,Risk_profile,Red_Delay,Min_inves):\n",
    "    filter_features = ['#_Funds_managed']\n",
    "    risk_quantile = risk_dic[Risk_profile]/len(risk_dic)     # Risk quantile [0.2, 0.4, 0.6 , 0.8, 1]\n",
    "    red_delay_min = Red_Delay[0]\n",
    "    red_delay_max = Red_Delay[1]\n",
    "    min_inv= Min_inves\n",
    "#     comp_quant_min = comp_size_dic[cpy_size][0]\n",
    "#     comp_quant_max = comp_size_dic[cpy_size][1]\n",
    "    new_df = df_w_cluster.loc[(df_w_cluster['Liquidity Ratios'] >= red_delay_min) &\n",
    "                 (df_w_cluster['Liquidity Ratios'] <= red_delay_max) &\n",
    "                 (df_w_cluster['Minimum Investment'] <= min_inv) & \n",
    "                 (df_w_cluster[fund_type_dic[Fund_type]] == 1)\n",
    "                ]  \n",
    "#     print(red_delay_min,red_delay_max,min_inv,fund_type_dic[Fund_type])\n",
    "#     display(new_df.groupby(['kmeans_1'])['Volatility_24m'].agg([np.mean,len]))\n",
    "    vol_quantile_value = new_df['Volatility_24m'].quantile(risk_quantile)\n",
    "    vol_clust_mean = new_df.groupby(['kmeans_1'])['Volatility_24m'].agg([np.mean]).sort_values(by=['mean'],ascending = False)\n",
    "    vol_clust_mean['dif'] = vol_clust_mean['mean'].map(lambda x: np.absolute(x-vol_quantile_value))\n",
    "    final_cluster = vol_clust_mean.sort_values(by=['dif']).index[0]\n",
    "    print(\"Final Cluster: \" + str(final_cluster))\n",
    "    print('There are {} results '.format(new_df.shape[0]))\n",
    "    print(\"Top 5 returns: \")\n",
    "    display(new_df[new_df['kmeans_1']==final_cluster][['Name','Management Fee'\n",
    "                                                       ,'Return_24m','Volatility_24m'\n",
    "                                                       ]].sort_values(by=['Return_24m'],ascending = False).head())\n",
    "    return None "
   ]
  },
  {
   "cell_type": "code",
   "execution_count": 19,
   "metadata": {},
   "outputs": [
    {
     "data": {
      "application/vnd.jupyter.widget-view+json": {
       "model_id": "ad1b4eda6cc247958e4dd1b17b45d570",
       "version_major": 2,
       "version_minor": 0
      },
      "text/plain": [
       "interactive(children=(Dropdown(description='Fund_type', options=('Fixed Income', 'Balanced', 'Equity', 'Curren…"
      ]
     },
     "metadata": {},
     "output_type": "display_data"
    }
   ],
   "source": [
    "function_interact = interact_manual(recommended_funds,\n",
    "                Fund_type = fund_type_dic.keys(),\n",
    "                Risk_profile = risk_dic.keys(),\n",
    "                Red_Delay=widgets.IntRangeSlider(value=[0, 7], min=0,  max=30, step=1),\n",
    "                Min_inves=widgets.BoundedIntText(value=1000,min=0, max=500000,step=1, \n",
    "                                                 description='Min_inves', disabled=False),\n",
    "#                 cpy_size = widgets.RadioButtons(options=['Large company', 'Medium company'\n",
    "#                                                          ,'Small company', 'Any size'], \n",
    "#                 description='Company', disabled=False)\n",
    "               )"
   ]
  },
  {
   "cell_type": "code",
   "execution_count": null,
   "metadata": {},
   "outputs": [],
   "source": []
  }
 ],
 "metadata": {
  "kernelspec": {
   "display_name": "Python 3",
   "language": "python",
   "name": "python3"
  },
  "language_info": {
   "codemirror_mode": {
    "name": "ipython",
    "version": 3
   },
   "file_extension": ".py",
   "mimetype": "text/x-python",
   "name": "python",
   "nbconvert_exporter": "python",
   "pygments_lexer": "ipython3",
   "version": "3.7.1"
  }
 },
 "nbformat": 4,
 "nbformat_minor": 2
}
