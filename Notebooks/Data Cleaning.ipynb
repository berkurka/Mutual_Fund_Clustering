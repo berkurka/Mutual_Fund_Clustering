{
 "cells": [
  {
   "cell_type": "code",
   "execution_count": 129,
   "metadata": {},
   "outputs": [],
   "source": [
    "import pandas as pd\n",
    "import numpy as np\n",
    "import os\n",
    "\n",
    "from datetime import datetime\n",
    "import time\n",
    "import re\n"
   ]
  },
  {
   "cell_type": "code",
   "execution_count": 130,
   "metadata": {},
   "outputs": [],
   "source": [
    "file_path= '../Data/Quali_1.xlsx'\n",
    "df_quali = pd.read_excel(file_path)"
   ]
  },
  {
   "cell_type": "code",
   "execution_count": 131,
   "metadata": {},
   "outputs": [],
   "source": [
    "# Store file Last Mod Date and Time\n",
    "modx = os.path.getmtime(file_path)\n",
    "mod_file_date = datetime.fromtimestamp(modx)"
   ]
  },
  {
   "cell_type": "markdown",
   "metadata": {},
   "source": [
    "### Filters\n",
    "1. Only consider funds that currently oprerating\n",
    "2. Considering Funds that are open for new investments\n",
    "3. Considering Funds that can be invested by any person, are not exclusive to a party\n",
    "4. Considering Funds with \"Minimum Investment\" <> \"Not Informed\"\n",
    "5. Removing null benchmark rows\n",
    "6. Removing rows where 'Leveraged Anbima' equals 'Non-classified'\n",
    "7. Removing rows where 'Private Credit Anbima' equals 'Non-classified'"
   ]
  },
  {
   "cell_type": "code",
   "execution_count": 132,
   "metadata": {},
   "outputs": [],
   "source": [
    "#Applying filters\n",
    "# 1)\n",
    "df_quali = df_quali[df_quali['Current Situation'] == \"In normal operation\"]\n",
    "df_quali = df_quali[df_quali['Closing Date'].isnull()]\n",
    "# 2) \n",
    "df_quali = df_quali[df_quali['Open to Investments'] == \"Yes\"]\n",
    "# 3) \n",
    "df_quali = df_quali[df_quali['Qualified Investor'] == \"No\"]\n",
    "df_quali = df_quali[df_quali['Exclusive Fund'] == \"No\"]\n",
    "# 4)\n",
    "df_quali = df_quali[df_quali['Minimum Investment'] != \"Not informed\"]\n",
    "# 5) \n",
    "df_quali = df_quali[~df_quali['Benchmark'].isna()]\n",
    "# 6) \n",
    "df_quali = df_quali[df_quali['Leveraged Anbima']!=\"Non-classified\"]\n",
    "# 7) \n",
    "df_quali = df_quali[df_quali['Private Credit Anbima']!=\"Non-classified\"]\n"
   ]
  },
  {
   "cell_type": "markdown",
   "metadata": {},
   "source": [
    "### Column Transformation"
   ]
  },
  {
   "cell_type": "markdown",
   "metadata": {},
   "source": [
    "#### Handling Management Fee (Information resides in 2 columns)\n",
    " - Fund Management fee may oscilate, I will consider the .\n",
    " - When Management fee (Maximum) is not informed I´ll use regular Management fee."
   ]
  },
  {
   "cell_type": "code",
   "execution_count": 133,
   "metadata": {},
   "outputs": [],
   "source": [
    "# logic funtion to use in apply\n",
    "def transform_fee(row):\n",
    "    if row['Management Fee (Maximum)'] == \"There is not\":\n",
    "        val = row['Management Fee']\n",
    "    else:\n",
    "        val = row['Management Fee (Maximum)']\n",
    "    return val\n",
    "\n",
    "#Saving results to data Frame\n",
    "df_quali['Management Fee'] = df_quali.apply(transform_fee, axis=1)\n"
   ]
  },
  {
   "cell_type": "markdown",
   "metadata": {},
   "source": [
    "#### Performance Fee Index\n",
    "- Grouping performance fee value if normalized count < 1 %"
   ]
  },
  {
   "cell_type": "code",
   "execution_count": 134,
   "metadata": {},
   "outputs": [
    {
     "data": {
      "text/plain": [
       "There is not              1097\n",
       "100% do CDI                420\n",
       "100% do Ibovespa           152\n",
       "100% do IBX                 26\n",
       "100% do IMA-B 5             10\n",
       "100% do IPCA + 6% a.a.       9\n",
       "100% do IMA-B                8\n",
       "100% do SMLL                 8\n",
       "Name: Performance Fee Reference Index, dtype: int64"
      ]
     },
     "execution_count": 134,
     "metadata": {},
     "output_type": "execute_result"
    }
   ],
   "source": [
    "df_quali['Performance Fee Reference Index'].value_counts().head(8)"
   ]
  },
  {
   "cell_type": "code",
   "execution_count": 135,
   "metadata": {},
   "outputs": [],
   "source": [
    "def group_categories(df,column_name,row_replace_Value = \"Other\",limit = 0.01):\n",
    "    mantain_row_vals = []\n",
    "    for y,x in df[column_name].value_counts(normalize=True).iteritems():\n",
    "        if x >= limit:\n",
    "            mantain_row_vals.append(y)\n",
    "    df[column_name] = df[column_name].map(lambda x: x if x in mantain_row_vals else row_replace_Value)\n",
    "    return df"
   ]
  },
  {
   "cell_type": "code",
   "execution_count": 136,
   "metadata": {},
   "outputs": [],
   "source": [
    "# Grouping\n",
    "df_quali = group_categories(df_quali,'Performance Fee Reference Index',\"Other_performance_fee\",0.01)\n",
    "\n",
    "# Changing all Null performance to 0\n",
    "df_quali['Performance Fee'] = df_quali['Performance Fee'].map(lambda x: 0 if x == \"There is not\" else x)"
   ]
  },
  {
   "cell_type": "markdown",
   "metadata": {},
   "source": [
    "#### Benchmark Type\n",
    "- Grouping Benchmark type if normalized count is < 1%\n",
    "- Renaming some benchmark typos"
   ]
  },
  {
   "cell_type": "code",
   "execution_count": 137,
   "metadata": {},
   "outputs": [],
   "source": [
    "# Grouping\n",
    "df_quali = group_categories(df_quali,'Benchmark',\"Other_Benchmark\",0.01)\n",
    "\n",
    "# Typos fix\n",
    "df_quali['Benchmark'] = df_quali['Benchmark'].str.replace(\"Not informed\",\"Not Informed\")\n",
    "df_quali['Benchmark'] = df_quali['Benchmark'].str.replace(\"Not defined\",\"Not Informed\")"
   ]
  },
  {
   "cell_type": "markdown",
   "metadata": {},
   "source": [
    "### Creating column with Fund age in months"
   ]
  },
  {
   "cell_type": "code",
   "execution_count": 138,
   "metadata": {},
   "outputs": [],
   "source": [
    "def diff_month(d1, d2):\n",
    "    return (d1.year - d2.year) * 12 + d1.month - d2.month"
   ]
  },
  {
   "cell_type": "code",
   "execution_count": 139,
   "metadata": {},
   "outputs": [],
   "source": [
    "df_quali['age_months'] = df_quali['Start Date of the Fund'].map(lambda x: diff_month(mod_file_date,x))"
   ]
  },
  {
   "cell_type": "markdown",
   "metadata": {},
   "source": [
    "### Selecting only funds with age > 24 months"
   ]
  },
  {
   "cell_type": "code",
   "execution_count": 140,
   "metadata": {},
   "outputs": [],
   "source": [
    "df_quali = df_quali[df_quali['age_months']>=24]"
   ]
  },
  {
   "cell_type": "markdown",
   "metadata": {},
   "source": [
    "### Droping Columns"
   ]
  },
  {
   "cell_type": "code",
   "execution_count": 141,
   "metadata": {
    "scrolled": true
   },
   "outputs": [],
   "source": [
    "drop_columns = ['Custodian','Administrator','Director','Headquarter (State)',\n",
    "                'Headquarters (City)','Headquarters (Neighborhood)',\n",
    "                'Fee Notes','Management Company','Management Company Name',\n",
    "                'Management Fee Charging Frequency','Management Fee Provision',\n",
    "                'Maximum Balance','Minimum Balance','Minimum Movement',\n",
    "                'Minimum Redemption','Performance Fee Charging Frequency',\n",
    "                'Performance Fee Criterion','Performance Fee Provision',\n",
    "                'Performance Fee Water Mark','Purpose of the fund','Quantum Category',\n",
    "                'Redemption Fee','Redemption Fee Exemption','Redemption NAV',\n",
    "                'Transactions Notes', 'Type of Disclosure','Fund\\'s Length',\n",
    "                'Closing Date', 'Target Investor','Master',\n",
    "                'Feeder','Current Situation','Management Fee Type',\n",
    "                'Open to Investments','Foreign Investment Anbima',\n",
    "                'Financial Management Fee','Exclusive Fund','Management Fee (Maximum)',\n",
    "                'Availability of Recovered Resources','Lockup Period','Investment NAV',\n",
    "                'Join Date','Start Date of the Fund','Qualified Investor',\n",
    "                'Entidade de Previdência 3922_US', 'Entidade de Previdência 4444_US',\n",
    "                'Entidade de Previdência 4661_US'\n",
    "               ]\n",
    "df_quali.drop(drop_columns, axis = 1, inplace=True)"
   ]
  },
  {
   "cell_type": "code",
   "execution_count": 142,
   "metadata": {},
   "outputs": [
    {
     "data": {
      "text/plain": [
       "Name                               ADAM MACRO 1 FIC MULTIMERCADO\n",
       "Benchmark                                   CDI (Interbank Rate)\n",
       "CNPJ                                          24.119.419/0001-25\n",
       "CVM Category                                         Multimarket\n",
       "Legal Classification                                         FIC\n",
       "Leveraged Anbima                                             Yes\n",
       "Management Fee                                             0.025\n",
       "Minimum Investment                                         10000\n",
       "Performance Fee                                              0.2\n",
       "Performance Fee Reference Index                      100% do CDI\n",
       "Portfolio Manager                                   Márcio Appel\n",
       "Private Credit Anbima                                         No\n",
       "Tax Classification                                     Long Term\n",
       "Liquidity Ratios                                              22\n",
       "age_months                                                    33\n",
       "Name: 50, dtype: object"
      ]
     },
     "execution_count": 142,
     "metadata": {},
     "output_type": "execute_result"
    }
   ],
   "source": [
    "df_quali.iloc[9] # Checking single row"
   ]
  },
  {
   "cell_type": "markdown",
   "metadata": {},
   "source": [
    "### Engineering Dummies with categorical features"
   ]
  },
  {
   "cell_type": "code",
   "execution_count": 143,
   "metadata": {},
   "outputs": [
    {
     "name": "stdout",
     "output_type": "stream",
     "text": [
      "PRINTING VALUE COUNTS FOR CATEGORICAL COLUMNS:\n",
      "\n",
      "Tax Classification:\n",
      " Long Term     958\n",
      "Equities      370\n",
      "Short Term     52\n",
      "Exempt          9\n",
      "Name: Tax Classification, dtype: int64 \n",
      "\n",
      "Private Credit Anbima:\n",
      " No                913\n",
      "Not applicable    317\n",
      "Yes               159\n",
      "Name: Private Credit Anbima, dtype: int64 \n",
      "\n",
      "Leveraged Anbima:\n",
      " No     987\n",
      "Yes    402\n",
      "Name: Leveraged Anbima, dtype: int64 \n",
      "\n",
      "Legal Classification:\n",
      " FIC    822\n",
      "FI     565\n",
      "ETF      2\n",
      "Name: Legal Classification, dtype: int64 \n",
      "\n",
      "CVM Category:\n",
      " Fixed Income    568\n",
      "Multimarket     435\n",
      "Equities        350\n",
      "FX               34\n",
      "Index Market      2\n",
      "Name: CVM Category, dtype: int64 \n",
      "\n",
      "Performance Fee Reference Index:\n",
      " There is not             921\n",
      "100% do CDI              284\n",
      "100% do Ibovespa         114\n",
      "Other_performance_fee     48\n",
      "100% do IBX               22\n",
      "Name: Performance Fee Reference Index, dtype: int64 \n",
      "\n",
      "Benchmark:\n",
      " CDI (Interbank Rate)    720\n",
      "Not Informed            339\n",
      "Ibovespa                181\n",
      "Other_Benchmark          69\n",
      "IBX                      37\n",
      "Dollar                   28\n",
      "IMA-B                    15\n",
      "Name: Benchmark, dtype: int64 \n",
      "\n"
     ]
    }
   ],
   "source": [
    "print(\"PRINTING VALUE COUNTS FOR CATEGORICAL COLUMNS:\\n\")\n",
    "print('Tax Classification:\\n',df_quali['Tax Classification'].value_counts(),'\\n')\n",
    "print('Private Credit Anbima:\\n',df_quali['Private Credit Anbima'].value_counts(),'\\n')\n",
    "print('Leveraged Anbima:\\n',df_quali['Leveraged Anbima'].value_counts(),'\\n')\n",
    "print('Legal Classification:\\n',df_quali['Legal Classification'].value_counts(),'\\n')\n",
    "print('CVM Category:\\n',df_quali['CVM Category'].value_counts(),'\\n')\n",
    "print('Performance Fee Reference Index:\\n',df_quali['Performance Fee Reference Index'].value_counts(),'\\n')\n",
    "print('Benchmark:\\n',df_quali['Benchmark'].value_counts(),'\\n')\n",
    "\n"
   ]
  },
  {
   "cell_type": "code",
   "execution_count": 144,
   "metadata": {},
   "outputs": [],
   "source": [
    "## Manually converting column Legal Classification to dummies\n",
    "df_quali['CVM Category_Fixed Income'] = np.where(df_quali['CVM Category'] == 'Fixed Income',1,0)\n",
    "df_quali['CVM Category_Multimarket'] = np.where(df_quali['CVM Category'] == 'Multimarket',1,0)\n",
    "df_quali['CVM Category_Equities'] = np.where(df_quali['CVM Category'] == 'Equities',1,0)\n",
    "df_quali['CVM Category_FX'] = np.where(df_quali['CVM Category'] == 'FX',1,0)\n",
    "df_quali.drop('CVM Category',axis=1,inplace=True)"
   ]
  },
  {
   "cell_type": "code",
   "execution_count": 145,
   "metadata": {},
   "outputs": [],
   "source": [
    "columns_to_dummy = ['Tax Classification','Private Credit Anbima','Leveraged Anbima',\n",
    "                   'Legal Classification','Performance Fee Reference Index','Benchmark']\n",
    "df_quali = pd.get_dummies(df_quali, columns=columns_to_dummy,drop_first=True)"
   ]
  },
  {
   "cell_type": "markdown",
   "metadata": {},
   "source": [
    "# EDA Quantitative Features"
   ]
  },
  {
   "cell_type": "code",
   "execution_count": 152,
   "metadata": {},
   "outputs": [],
   "source": [
    "file_path= '../Data/Quant_1.xlsx'\n",
    "df_quant = pd.read_excel(file_path)"
   ]
  },
  {
   "cell_type": "markdown",
   "metadata": {},
   "source": [
    "### Renaming Columns"
   ]
  },
  {
   "cell_type": "code",
   "execution_count": 153,
   "metadata": {},
   "outputs": [],
   "source": [
    "# Function to correct col names\n",
    "def fix_col_names(col_str):\n",
    "    if col_str == \"CNPJ\":\n",
    "        return col_str     \n",
    "    elif col_str[::-1][1]==\".\":\n",
    "        replaced = col_str.replace('.1', '_12m')\n",
    "        replaced = replaced.replace('.2', '_24m')\n",
    "    else:\n",
    "        replaced = col_str + '_6m'     \n",
    "#     print(col_str[::-1][1],col_str,replaced)\n",
    "    return replaced"
   ]
  },
  {
   "cell_type": "code",
   "execution_count": 154,
   "metadata": {},
   "outputs": [],
   "source": [
    "# Renaming 2 last assets col\n",
    "df_quant.rename({'Patrimônio Líquido final da série': 'Last_Assets',\n",
    "                 'Patrimônio Líquido final da série.1': 'Last_Assets_date'},\n",
    "                axis='columns',inplace=True)\n",
    "# Adding time period to column names\n",
    "cols = df_quant.columns\n",
    "df_quant.columns = [fix_col_names(cols[pos]).replace(\" \",\"_\") \n",
    "                    if pos > 2 else cols[pos].replace(\" \",\"_\")  \n",
    "                    for pos in range(len(cols))]\n"
   ]
  },
  {
   "cell_type": "code",
   "execution_count": 155,
   "metadata": {},
   "outputs": [
    {
     "data": {
      "text/plain": [
       "Index(['Name', 'Last_Assets', 'Last_Assets_date', 'Assets_Flow_6m',\n",
       "       'Assets_Flow_12m', 'Assets_Flow_24m', 'Average_Assets_6m',\n",
       "       'Average_Assets_12m', 'Average_Assets_24m', 'Return_6m', 'Return_12m',\n",
       "       'Return_24m', 'Volatility_6m', 'Volatility_12m', 'Volatility_24m',\n",
       "       'Excess_Return_-_CDI_Opening_6m', 'Excess_Return_-_CDI_Opening_12m',\n",
       "       'Excess_Return_-_CDI_Opening_24m', 'Excess_Return_-_Ibovespa_6m',\n",
       "       'Excess_Return_-_Ibovespa_12m', 'Excess_Return_-_Ibovespa_24m',\n",
       "       'Excess_Return_-_Dollar_6m', 'Excess_Return_-_Dollar_12m',\n",
       "       'Excess_Return_-_Dollar_24m', 'CNPJ'],\n",
       "      dtype='object')"
      ]
     },
     "execution_count": 155,
     "metadata": {},
     "output_type": "execute_result"
    }
   ],
   "source": [
    "df_quant.columns # Checking column names"
   ]
  },
  {
   "cell_type": "markdown",
   "metadata": {},
   "source": [
    "### Filtering & Merging & Fixing Data Types\n",
    "1. Only funds selected in the Qualitative Data Frame\n",
    "2. Rows with no null value.\n",
    "3. Creating Column with Manager Name\n",
    "4. Converting to numeric"
   ]
  },
  {
   "cell_type": "code",
   "execution_count": 156,
   "metadata": {},
   "outputs": [],
   "source": [
    "#1)\n",
    "df_quant = df_quant[df_quant['CNPJ'].isin(df_quali['CNPJ'])]\n",
    "# df_quant.isnull().sum().sum() # null check\n",
    "\n",
    "#2)\n",
    "df_quant = df_quant[~df_quant['Excess_Return_-_CDI_Opening_24m'].isnull()]\n",
    "# df_quant.isnull().sum().sum()   # null check\n",
    "\n",
    "# 3)\n",
    "df_quant = pd.merge(df_quant, df_quali[['CNPJ','Portfolio Manager']], on='CNPJ')\n",
    "\n",
    "# 4)\n",
    "string_columns = [\"Last_Assets_date\",\"Name\",\"CNPJ\",\"Portfolio Manager\"]\n",
    "numeric_cols = df_quant[df_quant.columns[~df_quant.columns.isin(string_columns)]].columns\n",
    "df_quant[numeric_cols] = df_quant[numeric_cols].apply(pd.to_numeric)\n",
    "# df_quant.dtypes  # dtypes check"
   ]
  },
  {
   "cell_type": "markdown",
   "metadata": {},
   "source": [
    "### Feature Engineering columns with Manager Information"
   ]
  },
  {
   "cell_type": "code",
   "execution_count": 157,
   "metadata": {
    "scrolled": false
   },
   "outputs": [],
   "source": [
    "managers = pd.DataFrame(df_quant['Portfolio Manager'].value_counts())\n",
    "managers.columns = [\"#_Funds_managed\"]"
   ]
  },
  {
   "cell_type": "code",
   "execution_count": 158,
   "metadata": {},
   "outputs": [],
   "source": [
    "x = df_quant[df_quant['Portfolio Manager']=='Eduardo Alves de Castro']['Last_Assets'].values"
   ]
  },
  {
   "cell_type": "code",
   "execution_count": 159,
   "metadata": {
    "scrolled": true
   },
   "outputs": [],
   "source": [
    "managers['Manager_avg_Assets'] = [np.average(df_quant[df_quant['Portfolio Manager']\n",
    "                         ==manage_name]['Last_Assets'].values) for manage_name\n",
    "                         in managers.index.values]"
   ]
  },
  {
   "cell_type": "code",
   "execution_count": 160,
   "metadata": {},
   "outputs": [],
   "source": [
    "df_quant[\"#_Funds_managed\"] = [managers.loc[manager]['#_Funds_managed'] for manager\n",
    "                              in df_quant['Portfolio Manager']]"
   ]
  },
  {
   "cell_type": "code",
   "execution_count": 161,
   "metadata": {},
   "outputs": [],
   "source": [
    "df_quant[\"Manager_avg_Assets\"] = [managers.loc[manager]['Manager_avg_Assets'] for manager\n",
    "                              in df_quant['Portfolio Manager']]"
   ]
  },
  {
   "cell_type": "markdown",
   "metadata": {},
   "source": [
    "# Joining Qualitative and Quantitative Data Frames"
   ]
  },
  {
   "cell_type": "code",
   "execution_count": 162,
   "metadata": {},
   "outputs": [
    {
     "data": {
      "text/plain": [
       "(1376, 28)"
      ]
     },
     "execution_count": 162,
     "metadata": {},
     "output_type": "execute_result"
    }
   ],
   "source": [
    "df_quant.shape # Dimention check"
   ]
  },
  {
   "cell_type": "code",
   "execution_count": 163,
   "metadata": {},
   "outputs": [
    {
     "data": {
      "text/plain": [
       "(1389, 30)"
      ]
     },
     "execution_count": 163,
     "metadata": {},
     "output_type": "execute_result"
    }
   ],
   "source": [
    "df_quali.shape # Dimention check"
   ]
  },
  {
   "cell_type": "code",
   "execution_count": 164,
   "metadata": {
    "scrolled": true
   },
   "outputs": [],
   "source": [
    "df_quant.drop(['Portfolio Manager','Name'], axis = 1, inplace=True)\n",
    "final_df = pd.merge(df_quali,df_quant,on = 'CNPJ')"
   ]
  },
  {
   "cell_type": "code",
   "execution_count": 165,
   "metadata": {},
   "outputs": [
    {
     "data": {
      "text/plain": [
       "(1376, 55)"
      ]
     },
     "execution_count": 165,
     "metadata": {},
     "output_type": "execute_result"
    }
   ],
   "source": [
    "final_df.shape # Dimention check"
   ]
  },
  {
   "cell_type": "markdown",
   "metadata": {},
   "source": [
    "## Saving final csv"
   ]
  },
  {
   "cell_type": "code",
   "execution_count": 166,
   "metadata": {},
   "outputs": [],
   "source": [
    "final_df.to_csv('./clean_df.csv',index=False)"
   ]
  },
  {
   "cell_type": "code",
   "execution_count": 173,
   "metadata": {
    "scrolled": true
   },
   "outputs": [
    {
     "name": "stdout",
     "output_type": "stream",
     "text": [
      "<class 'pandas.core.frame.DataFrame'>\n",
      "Int64Index: 1376 entries, 0 to 1375\n",
      "Data columns (total 55 columns):\n",
      "Name                                                     1376 non-null object\n",
      "CNPJ                                                     1376 non-null object\n",
      "Management Fee                                           1376 non-null float64\n",
      "Minimum Investment                                       1376 non-null object\n",
      "Performance Fee                                          1376 non-null float64\n",
      "Portfolio Manager                                        1376 non-null object\n",
      "Liquidity Ratios                                         1376 non-null object\n",
      "age_months                                               1376 non-null int64\n",
      "CVM Category_Fixed Income                                1376 non-null int32\n",
      "CVM Category_Multimarket                                 1376 non-null int32\n",
      "CVM Category_Equities                                    1376 non-null int32\n",
      "CVM Category_FX                                          1376 non-null int32\n",
      "Tax Classification_Exempt                                1376 non-null uint8\n",
      "Tax Classification_Long Term                             1376 non-null uint8\n",
      "Tax Classification_Short Term                            1376 non-null uint8\n",
      "Private Credit Anbima_Not applicable                     1376 non-null uint8\n",
      "Private Credit Anbima_Yes                                1376 non-null uint8\n",
      "Leveraged Anbima_Yes                                     1376 non-null uint8\n",
      "Legal Classification_FI                                  1376 non-null uint8\n",
      "Legal Classification_FIC                                 1376 non-null uint8\n",
      "Performance Fee Reference Index_100% do IBX              1376 non-null uint8\n",
      "Performance Fee Reference Index_100% do Ibovespa         1376 non-null uint8\n",
      "Performance Fee Reference Index_Other_performance_fee    1376 non-null uint8\n",
      "Performance Fee Reference Index_There is not             1376 non-null uint8\n",
      "Benchmark_Dollar                                         1376 non-null uint8\n",
      "Benchmark_IBX                                            1376 non-null uint8\n",
      "Benchmark_IMA-B                                          1376 non-null uint8\n",
      "Benchmark_Ibovespa                                       1376 non-null uint8\n",
      "Benchmark_Not Informed                                   1376 non-null uint8\n",
      "Benchmark_Other_Benchmark                                1376 non-null uint8\n",
      "Last_Assets                                              1376 non-null float64\n",
      "Last_Assets_date                                         1376 non-null object\n",
      "Assets_Flow_6m                                           1376 non-null float64\n",
      "Assets_Flow_12m                                          1376 non-null float64\n",
      "Assets_Flow_24m                                          1376 non-null float64\n",
      "Average_Assets_6m                                        1376 non-null float64\n",
      "Average_Assets_12m                                       1376 non-null float64\n",
      "Average_Assets_24m                                       1376 non-null float64\n",
      "Return_6m                                                1376 non-null float64\n",
      "Return_12m                                               1376 non-null float64\n",
      "Return_24m                                               1376 non-null float64\n",
      "Volatility_6m                                            1376 non-null float64\n",
      "Volatility_12m                                           1376 non-null float64\n",
      "Volatility_24m                                           1376 non-null float64\n",
      "Excess_Return_-_CDI_Opening_6m                           1376 non-null float64\n",
      "Excess_Return_-_CDI_Opening_12m                          1376 non-null float64\n",
      "Excess_Return_-_CDI_Opening_24m                          1376 non-null float64\n",
      "Excess_Return_-_Ibovespa_6m                              1376 non-null float64\n",
      "Excess_Return_-_Ibovespa_12m                             1376 non-null float64\n",
      "Excess_Return_-_Ibovespa_24m                             1376 non-null float64\n",
      "Excess_Return_-_Dollar_6m                                1376 non-null float64\n",
      "Excess_Return_-_Dollar_12m                               1376 non-null float64\n",
      "Excess_Return_-_Dollar_24m                               1376 non-null float64\n",
      "#_Funds_managed                                          1376 non-null float64\n",
      "Manager_avg_Assets                                       1376 non-null float64\n",
      "dtypes: float64(26), int32(4), int64(1), object(6), uint8(18)\n",
      "memory usage: 411.2+ KB\n"
     ]
    }
   ],
   "source": [
    "final_df.info()"
   ]
  },
  {
   "cell_type": "code",
   "execution_count": null,
   "metadata": {},
   "outputs": [],
   "source": []
  },
  {
   "cell_type": "code",
   "execution_count": 178,
   "metadata": {},
   "outputs": [
    {
     "name": "stdout",
     "output_type": "stream",
     "text": [
      "Name @ object\n",
      "CNPJ @ object\n",
      "Management Fee @ float64\n",
      "Minimum Investment @ object\n",
      "Performance Fee @ float64\n",
      "Portfolio Manager @ object\n",
      "Liquidity Ratios @ object\n",
      "age_months @ int64\n",
      "CVM Category_Fixed Income @ int32\n",
      "CVM Category_Multimarket @ int32\n",
      "CVM Category_Equities @ int32\n",
      "CVM Category_FX @ int32\n",
      "Tax Classification_Exempt @ uint8\n",
      "Tax Classification_Long Term @ uint8\n",
      "Tax Classification_Short Term @ uint8\n",
      "Private Credit Anbima_Not applicable @ uint8\n",
      "Private Credit Anbima_Yes @ uint8\n",
      "Leveraged Anbima_Yes @ uint8\n",
      "Legal Classification_FI @ uint8\n",
      "Legal Classification_FIC @ uint8\n",
      "Performance Fee Reference Index_100% do IBX @ uint8\n",
      "Performance Fee Reference Index_100% do Ibovespa @ uint8\n",
      "Performance Fee Reference Index_Other_performance_fee @ uint8\n",
      "Performance Fee Reference Index_There is not @ uint8\n",
      "Benchmark_Dollar @ uint8\n",
      "Benchmark_IBX @ uint8\n",
      "Benchmark_IMA-B @ uint8\n",
      "Benchmark_Ibovespa @ uint8\n",
      "Benchmark_Not Informed @ uint8\n",
      "Benchmark_Other_Benchmark @ uint8\n",
      "Last_Assets @ float64\n",
      "Last_Assets_date @ object\n",
      "Assets_Flow_6m @ float64\n",
      "Assets_Flow_12m @ float64\n",
      "Assets_Flow_24m @ float64\n",
      "Average_Assets_6m @ float64\n",
      "Average_Assets_12m @ float64\n",
      "Average_Assets_24m @ float64\n",
      "Return_6m @ float64\n",
      "Return_12m @ float64\n",
      "Return_24m @ float64\n",
      "Volatility_6m @ float64\n",
      "Volatility_12m @ float64\n",
      "Volatility_24m @ float64\n",
      "Excess_Return_-_CDI_Opening_6m @ float64\n",
      "Excess_Return_-_CDI_Opening_12m @ float64\n",
      "Excess_Return_-_CDI_Opening_24m @ float64\n",
      "Excess_Return_-_Ibovespa_6m @ float64\n",
      "Excess_Return_-_Ibovespa_12m @ float64\n",
      "Excess_Return_-_Ibovespa_24m @ float64\n",
      "Excess_Return_-_Dollar_6m @ float64\n",
      "Excess_Return_-_Dollar_12m @ float64\n",
      "Excess_Return_-_Dollar_24m @ float64\n",
      "#_Funds_managed @ float64\n",
      "Manager_avg_Assets @ float64\n"
     ]
    }
   ],
   "source": [
    "for col in final_df.columns:\n",
    "    print(col,\"@\",final_df[col].dtype)"
   ]
  },
  {
   "cell_type": "code",
   "execution_count": null,
   "metadata": {},
   "outputs": [],
   "source": []
  }
 ],
 "metadata": {
  "kernelspec": {
   "display_name": "Python 3",
   "language": "python",
   "name": "python3"
  },
  "language_info": {
   "codemirror_mode": {
    "name": "ipython",
    "version": 3
   },
   "file_extension": ".py",
   "mimetype": "text/x-python",
   "name": "python",
   "nbconvert_exporter": "python",
   "pygments_lexer": "ipython3",
   "version": "3.7.1"
  }
 },
 "nbformat": 4,
 "nbformat_minor": 2
}
