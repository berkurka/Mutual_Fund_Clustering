{
 "cells": [
  {
   "cell_type": "code",
   "execution_count": 1,
   "metadata": {},
   "outputs": [],
   "source": [
    "import pandas as pd\n",
    "import numpy as np\n",
    "import os\n",
    "\n",
    "from datetime import datetime\n",
    "import time\n",
    "import re\n"
   ]
  },
  {
   "cell_type": "code",
   "execution_count": 2,
   "metadata": {},
   "outputs": [],
   "source": [
    "file_path= './Quali_1.xlsx'\n",
    "df_quali = pd.read_excel(file_path)"
   ]
  },
  {
   "cell_type": "code",
   "execution_count": 3,
   "metadata": {},
   "outputs": [],
   "source": [
    "# Store file Last Mod Date and Time\n",
    "modx = os.path.getmtime(file_path)\n",
    "mod_file_date = datetime.fromtimestamp(modx)"
   ]
  },
  {
   "cell_type": "markdown",
   "metadata": {},
   "source": [
    "### Filters\n",
    "1. Only consider funds that currently oprerating\n",
    "2. Considering Funds that are open for new investments\n",
    "3. Considering Funds that can be invested by any person, are not exclusive to a party\n",
    "4. Considering Funds with \"Minimum Investment\" <> \"Not Informed\"\n",
    "5. Removing null benchmark rows"
   ]
  },
  {
   "cell_type": "code",
   "execution_count": 4,
   "metadata": {},
   "outputs": [],
   "source": [
    "#Applying filters\n",
    "# 1)\n",
    "df_quali = df_quali[df_quali['Current Situation'] == \"In normal operation\"]\n",
    "df_quali = df_quali[df_quali['Closing Date'].isnull()]\n",
    "# 2) \n",
    "df_quali = df_quali[df_quali['Open to Investments'] == \"Yes\"]\n",
    "# 3) \n",
    "df_quali = df_quali[df_quali['Qualified Investor'] == \"No\"]\n",
    "df_quali = df_quali[df_quali['Exclusive Fund'] == \"No\"]\n",
    "# 4)\n",
    "df_quali = df_quali[df_quali['Minimum Investment'] != \"Not informed\"]\n",
    "# 5) \n",
    "df_quali = df_quali[~df_quali['Benchmark'].isna()]"
   ]
  },
  {
   "cell_type": "markdown",
   "metadata": {},
   "source": [
    "### Column Transformation"
   ]
  },
  {
   "cell_type": "markdown",
   "metadata": {},
   "source": [
    "#### Handling Management Fee (Information resides in 2 columns)\n",
    " - Fund Management fee may oscilate, I will consider the .\n",
    " - When Management fee (Maximum) is not informed I´ll use regular Management fee."
   ]
  },
  {
   "cell_type": "code",
   "execution_count": 5,
   "metadata": {},
   "outputs": [],
   "source": [
    "# logic funtion to use in apply\n",
    "def transform_fee(row):\n",
    "    if row['Management Fee (Maximum)'] == \"There is not\":\n",
    "        val = row['Management Fee']\n",
    "    else:\n",
    "        val = row['Management Fee (Maximum)']\n",
    "    return val\n",
    "\n",
    "#Saving results to data Frame\n",
    "df_quali['Management Fee'] = df_quali.apply(transform_fee, axis=1)\n"
   ]
  },
  {
   "cell_type": "markdown",
   "metadata": {},
   "source": [
    "#### Performance Fee \n",
    "- Grouping performance fee value if normalized count < 1 %"
   ]
  },
  {
   "cell_type": "code",
   "execution_count": 6,
   "metadata": {},
   "outputs": [],
   "source": [
    "def group_categories(df,column_name,row_replace_Value = \"Other\",limit = 0.01):\n",
    "    mantain_row_vals = []\n",
    "    for y,x in df[column_name].value_counts(normalize=True).iteritems():\n",
    "        if x >= limit:\n",
    "            mantain_row_vals.append(y)\n",
    "    df[column_name] = df[column_name].map(lambda x: x if x in mantain_row_vals else row_replace_Value)\n",
    "    return df"
   ]
  },
  {
   "cell_type": "code",
   "execution_count": 7,
   "metadata": {},
   "outputs": [],
   "source": [
    "# Grouping\n",
    "df_quali = group_categories(df_quali,'Performance Fee Reference Index',\"Other_performance_fee\",0.01)\n",
    "\n",
    "# Changing all Null performance to 0\n",
    "df_quali['Performance Fee'] = df_quali['Performance Fee'].map(lambda x: 0 if x == \"There is not\" else x)"
   ]
  },
  {
   "cell_type": "markdown",
   "metadata": {},
   "source": [
    "#### Benchmark\n",
    "- Grouping benchmark value if normalized count is < 1%\n",
    "- Renaming some benchmark typos"
   ]
  },
  {
   "cell_type": "code",
   "execution_count": 8,
   "metadata": {},
   "outputs": [],
   "source": [
    "# Grouping\n",
    "df_quali = group_categories(df_quali,'Benchmark',\"Other_Benchmark\",0.01)\n",
    "\n",
    "# Typos fix\n",
    "df_quali['Benchmark'] = df_quali['Benchmark'].str.replace(\"Not informed\",\"Not Informed\")\n",
    "df_quali['Benchmark'] = df_quali['Benchmark'].str.replace(\"Not defined\",\"Not Informed\")"
   ]
  },
  {
   "cell_type": "markdown",
   "metadata": {},
   "source": [
    "### Creating column with Fund age in months"
   ]
  },
  {
   "cell_type": "code",
   "execution_count": 9,
   "metadata": {},
   "outputs": [],
   "source": [
    "def diff_month(d1, d2):\n",
    "    return (d1.year - d2.year) * 12 + d1.month - d2.month"
   ]
  },
  {
   "cell_type": "code",
   "execution_count": 10,
   "metadata": {},
   "outputs": [],
   "source": [
    "df_quali['age_months'] = df_quali['Start Date of the Fund'].map(lambda x: diff_month(mod_file_date,x))"
   ]
  },
  {
   "cell_type": "markdown",
   "metadata": {},
   "source": [
    "### Selecting only funds with age > 24 months"
   ]
  },
  {
   "cell_type": "code",
   "execution_count": 11,
   "metadata": {},
   "outputs": [],
   "source": [
    "df_quali = df_quali[df_quali['age_months']>=24]"
   ]
  },
  {
   "cell_type": "markdown",
   "metadata": {},
   "source": [
    "### Droping Columns"
   ]
  },
  {
   "cell_type": "code",
   "execution_count": 12,
   "metadata": {
    "scrolled": true
   },
   "outputs": [],
   "source": [
    "drop_columns = ['Custodian','Administrator','Director','Headquarter (State)',\n",
    "                'Headquarters (City)','Headquarters (Neighborhood)',\n",
    "                'Fee Notes','Management Company','Management Company Name',\n",
    "                'Management Fee Charging Frequency','Management Fee Provision',\n",
    "                'Maximum Balance','Minimum Balance','Minimum Movement',\n",
    "                'Minimum Redemption','Performance Fee Charging Frequency',\n",
    "                'Performance Fee Criterion','Performance Fee Provision',\n",
    "                'Performance Fee Water Mark','Purpose of the fund','Quantum Category',\n",
    "                'Redemption Fee','Redemption Fee Exemption','Redemption NAV',\n",
    "                'Transactions Notes', 'Type of Disclosure','Fund\\'s Length',\n",
    "                'Closing Date', 'Target Investor','Master',\n",
    "                'Feeder','Current Situation','Management Fee Type',\n",
    "                'Open to Investments','Foreign Investment Anbima',\n",
    "                'Financial Management Fee','Exclusive Fund','Management Fee (Maximum)',\n",
    "                'Availability of Recovered Resources','Lockup Period','Investment NAV',\n",
    "                'Join Date','Start Date of the Fund','Qualified Investor'\n",
    "               ]\n",
    "df_quali.drop(drop_columns, axis = 1, inplace=True)"
   ]
  },
  {
   "cell_type": "code",
   "execution_count": 13,
   "metadata": {},
   "outputs": [
    {
     "data": {
      "text/plain": [
       "Name                               ADAM MACRO 1 FIC MULTIMERCADO\n",
       "Benchmark                                   CDI (Interbank Rate)\n",
       "CNPJ                                          24.119.419/0001-25\n",
       "CVM Category                                         Multimarket\n",
       "Entidade de Previdência 3922_US                               No\n",
       "Entidade de Previdência 4444_US                               No\n",
       "Entidade de Previdência 4661_US                               No\n",
       "Legal Classification                                         FIC\n",
       "Leveraged Anbima                                             Yes\n",
       "Management Fee                                             0.025\n",
       "Minimum Investment                                         10000\n",
       "Performance Fee                                              0.2\n",
       "Performance Fee Reference Index                      100% do CDI\n",
       "Portfolio Manager                                   Márcio Appel\n",
       "Private Credit Anbima                                         No\n",
       "Tax Classification                                     Long Term\n",
       "Liquidity Ratios                                              22\n",
       "age_months                                                    33\n",
       "Name: 50, dtype: object"
      ]
     },
     "execution_count": 13,
     "metadata": {},
     "output_type": "execute_result"
    }
   ],
   "source": [
    "df_quali.iloc[9] # Checking single row"
   ]
  },
  {
   "cell_type": "markdown",
   "metadata": {},
   "source": [
    "### Creating Dummies engineering"
   ]
  },
  {
   "cell_type": "code",
   "execution_count": 14,
   "metadata": {},
   "outputs": [],
   "source": [
    "columns_to_dummy = ['Tax Classification','Private Credit Anbima','Leveraged Anbima',\n",
    "                   'Legal Classification','Entidade de Previdência 3922_US',                                                  \n",
    "                    'Entidade de Previdência 4444_US','Entidade de Previdência 4661_US',\n",
    "                    'CVM Category','Performance Fee Reference Index','Benchmark']\n",
    "df_quali = pd.get_dummies(df_quali, columns=columns_to_dummy,drop_first=True)"
   ]
  },
  {
   "cell_type": "markdown",
   "metadata": {},
   "source": [
    "# EDA Quantitative Features"
   ]
  },
  {
   "cell_type": "code",
   "execution_count": 15,
   "metadata": {},
   "outputs": [],
   "source": [
    "file_path= './Quant_4.xlsx'\n",
    "df_quant = pd.read_excel(file_path)"
   ]
  },
  {
   "cell_type": "markdown",
   "metadata": {},
   "source": [
    "### Renaming Columns"
   ]
  },
  {
   "cell_type": "code",
   "execution_count": 16,
   "metadata": {},
   "outputs": [],
   "source": [
    "# Function to correct col names\n",
    "def fix_col_names(col_str):\n",
    "    if col_str == \"CNPJ\":\n",
    "        return col_str     \n",
    "    elif col_str[::-1][1]==\".\":\n",
    "        replaced = col_str.replace('.1', '_12m')\n",
    "        replaced = replaced.replace('.2', '_24m')\n",
    "    else:\n",
    "        replaced = col_str + '_6m'     \n",
    "#     print(col_str[::-1][1],col_str,replaced)\n",
    "    return replaced"
   ]
  },
  {
   "cell_type": "code",
   "execution_count": 17,
   "metadata": {},
   "outputs": [],
   "source": [
    "# Renaming 2 last assets col\n",
    "df_quant.rename({'Patrimônio Líquido final da série': 'Last_Assets',\n",
    "                 'Patrimônio Líquido final da série.1': 'Last_Assets_date'},\n",
    "                axis='columns',inplace=True)\n",
    "# Adding time period to column names\n",
    "cols = df_quant.columns\n",
    "df_quant.columns = [fix_col_names(cols[pos]).replace(\" \",\"_\") \n",
    "                    if pos > 2 else cols[pos].replace(\" \",\"_\")  \n",
    "                    for pos in range(len(cols))]\n"
   ]
  },
  {
   "cell_type": "code",
   "execution_count": 18,
   "metadata": {},
   "outputs": [
    {
     "data": {
      "text/plain": [
       "Index(['Name', 'Last_Assets', 'Last_Assets_date', 'Assets_Flow_6m',\n",
       "       'Assets_Flow_12m', 'Assets_Flow_24m', 'Average_Assets_6m',\n",
       "       'Average_Assets_12m', 'Average_Assets_24m', 'Return_6m', 'Return_12m',\n",
       "       'Return_24m', 'Volatility_6m', 'Volatility_12m', 'Volatility_24m',\n",
       "       'Excess_Return_-_CDI_Opening_6m', 'Excess_Return_-_CDI_Opening_12m',\n",
       "       'Excess_Return_-_CDI_Opening_24m', 'Excess_Return_-_Ibovespa_6m',\n",
       "       'Excess_Return_-_Ibovespa_12m', 'Excess_Return_-_Ibovespa_24m',\n",
       "       'Excess_Return_-_Dollar_6m', 'Excess_Return_-_Dollar_12m',\n",
       "       'Excess_Return_-_Dollar_24m', 'CNPJ'],\n",
       "      dtype='object')"
      ]
     },
     "execution_count": 18,
     "metadata": {},
     "output_type": "execute_result"
    }
   ],
   "source": [
    "df_quant.columns # Checking column names"
   ]
  },
  {
   "cell_type": "markdown",
   "metadata": {},
   "source": [
    "### Filtering & Merging & Fixing Data Types\n",
    "1. Only funds selected in the Qualitative Data Frame\n",
    "2. Rows with no null value.\n",
    "3. Creating Column with Manager Name\n",
    "4. Converting to numeric"
   ]
  },
  {
   "cell_type": "code",
   "execution_count": 19,
   "metadata": {},
   "outputs": [],
   "source": [
    "#1)\n",
    "df_quant = df_quant[df_quant['CNPJ'].isin(df_quali['CNPJ'])]\n",
    "# df_quant.isnull().sum().sum() # null check\n",
    "\n",
    "#2)\n",
    "df_quant = df_quant[~df_quant['Excess_Return_-_CDI_Opening_24m'].isnull()]\n",
    "# df_quant.isnull().sum().sum()   # null check\n",
    "\n",
    "# 3)\n",
    "df_quant = pd.merge(df_quant, df_quali[['CNPJ','Portfolio Manager']], on='CNPJ')\n",
    "\n",
    "# 4)\n",
    "string_columns = [\"Last_Assets_date\",\"Name\",\"CNPJ\",\"Portfolio Manager\"]\n",
    "numeric_cols = df_quant[df_quant.columns[~df_quant.columns.isin(string_columns)]].columns\n",
    "df_quant[numeric_cols] = df_quant[numeric_cols].apply(pd.to_numeric)\n",
    "# df_quant.dtypes  # dtypes check"
   ]
  },
  {
   "cell_type": "markdown",
   "metadata": {},
   "source": [
    "### Feature Engineering columns with Manager Information"
   ]
  },
  {
   "cell_type": "code",
   "execution_count": 20,
   "metadata": {
    "scrolled": false
   },
   "outputs": [],
   "source": [
    "managers = pd.DataFrame(df_quant['Portfolio Manager'].value_counts())\n",
    "managers.columns = [\"#_Funds_managed\"]"
   ]
  },
  {
   "cell_type": "code",
   "execution_count": 21,
   "metadata": {},
   "outputs": [],
   "source": [
    "x = df_quant[df_quant['Portfolio Manager']=='Eduardo Alves de Castro']['Last_Assets'].values"
   ]
  },
  {
   "cell_type": "code",
   "execution_count": 22,
   "metadata": {
    "scrolled": true
   },
   "outputs": [],
   "source": [
    "managers['Manager_avg_Assets'] = [np.average(df_quant[df_quant['Portfolio Manager']\n",
    "                         ==manage_name]['Last_Assets'].values) for manage_name\n",
    "                         in managers.index.values]"
   ]
  },
  {
   "cell_type": "code",
   "execution_count": 24,
   "metadata": {},
   "outputs": [],
   "source": [
    "df_quant[\"#_Funds_managed\"] = [managers.loc[manager]['#_Funds_managed'] for manager\n",
    "                              in df_quant['Portfolio Manager']]"
   ]
  },
  {
   "cell_type": "code",
   "execution_count": 26,
   "metadata": {},
   "outputs": [],
   "source": [
    "df_quant[\"Manager_avg_Assets\"] = [managers.loc[manager]['Manager_avg_Assets'] for manager\n",
    "                              in df_quant['Portfolio Manager']]"
   ]
  },
  {
   "cell_type": "markdown",
   "metadata": {},
   "source": [
    "# Joining Qualitative and Quantitative Data Frames"
   ]
  },
  {
   "cell_type": "code",
   "execution_count": 27,
   "metadata": {},
   "outputs": [
    {
     "data": {
      "text/plain": [
       "(1380, 28)"
      ]
     },
     "execution_count": 27,
     "metadata": {},
     "output_type": "execute_result"
    }
   ],
   "source": [
    "df_quant.shape # Dimention check"
   ]
  },
  {
   "cell_type": "code",
   "execution_count": 28,
   "metadata": {},
   "outputs": [
    {
     "data": {
      "text/plain": [
       "(1395, 34)"
      ]
     },
     "execution_count": 28,
     "metadata": {},
     "output_type": "execute_result"
    }
   ],
   "source": [
    "df_quali.shape # Dimention check"
   ]
  },
  {
   "cell_type": "code",
   "execution_count": 29,
   "metadata": {
    "scrolled": true
   },
   "outputs": [],
   "source": [
    "df_quant.drop(['Portfolio Manager','Name'], axis = 1, inplace=True)\n",
    "final_df = pd.merge(df_quali,df_quant,on = 'CNPJ')"
   ]
  },
  {
   "cell_type": "code",
   "execution_count": 30,
   "metadata": {},
   "outputs": [
    {
     "data": {
      "text/plain": [
       "(1380, 59)"
      ]
     },
     "execution_count": 30,
     "metadata": {},
     "output_type": "execute_result"
    }
   ],
   "source": [
    "final_df.shape # Dimention check"
   ]
  },
  {
   "cell_type": "markdown",
   "metadata": {},
   "source": [
    "## Saving final csv"
   ]
  },
  {
   "cell_type": "code",
   "execution_count": 32,
   "metadata": {},
   "outputs": [],
   "source": [
    "final_df.to_csv('./clean_df.csv',index=False)"
   ]
  },
  {
   "cell_type": "code",
   "execution_count": null,
   "metadata": {},
   "outputs": [],
   "source": []
  }
 ],
 "metadata": {
  "kernelspec": {
   "display_name": "Python 3",
   "language": "python",
   "name": "python3"
  },
  "language_info": {
   "codemirror_mode": {
    "name": "ipython",
    "version": 3
   },
   "file_extension": ".py",
   "mimetype": "text/x-python",
   "name": "python",
   "nbconvert_exporter": "python",
   "pygments_lexer": "ipython3",
   "version": "3.7.1"
  }
 },
 "nbformat": 4,
 "nbformat_minor": 2
}
